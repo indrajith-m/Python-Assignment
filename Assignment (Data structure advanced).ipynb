{
  "nbformat": 4,
  "nbformat_minor": 0,
  "metadata": {
    "colab": {
      "provenance": []
    },
    "kernelspec": {
      "name": "python3",
      "display_name": "Python 3"
    },
    "language_info": {
      "name": "python"
    }
  },
  "cells": [
    {
      "cell_type": "markdown",
      "source": [
        "# Python Assignment - Data Structure Advanced"
      ],
      "metadata": {
        "id": "r5Pa-1UnZBA5"
      }
    },
    {
      "cell_type": "markdown",
      "source": [
        "**Question No1:** Write a code to reverse a string\n",
        "\n",
        "**Answer:**"
      ],
      "metadata": {
        "id": "HiJw1HgPZRLC"
      }
    },
    {
      "cell_type": "code",
      "source": [
        "def reverse_string(input_string):\n",
        "    return input_string[::-1]\n",
        "\n",
        "input_str = \"Hello, World!\"\n",
        "reversed_str = reverse_string(input_str)\n",
        "print(\"Reversed string:\", reversed_str)"
      ],
      "metadata": {
        "colab": {
          "base_uri": "https://localhost:8080/"
        },
        "id": "BOmPCJ72ZtkM",
        "outputId": "a6ee211d-739e-4ea1-c880-829f0bfa02ff"
      },
      "execution_count": null,
      "outputs": [
        {
          "output_type": "stream",
          "name": "stdout",
          "text": [
            "Reversed string: !dlroW ,olleH\n"
          ]
        }
      ]
    },
    {
      "cell_type": "markdown",
      "source": [
        "**Question No2:** Write a code to count the number of vowels in a string\n",
        "\n",
        "\n",
        "**Answer:**"
      ],
      "metadata": {
        "id": "tts87DJ3cPaf"
      }
    },
    {
      "cell_type": "code",
      "source": [
        "def count_vowels(input_string):\n",
        "    vowels = \"aeiouAEIOU\"\n",
        "    count = 0\n",
        "    for char in input_string:\n",
        "        if char in vowels:\n",
        "            count += 1\n",
        "    return count\n",
        "\n",
        "input_str = \"Hello, World!\"\n",
        "vowel_count = count_vowels(input_str)\n",
        "print(\"Number of vowels:\", vowel_count)"
      ],
      "metadata": {
        "colab": {
          "base_uri": "https://localhost:8080/"
        },
        "id": "-wLwoduVcbdJ",
        "outputId": "2d70af08-7963-4463-b8e1-d15551ac0a55"
      },
      "execution_count": null,
      "outputs": [
        {
          "output_type": "stream",
          "name": "stdout",
          "text": [
            "Number of vowels: 3\n"
          ]
        }
      ]
    },
    {
      "cell_type": "markdown",
      "source": [
        "**Question No3:** Write a code to check if a given string is a palindrome or not.\n",
        "\n",
        "**Answer:**"
      ],
      "metadata": {
        "id": "FCB2NW04cgHc"
      }
    },
    {
      "cell_type": "code",
      "source": [
        "def is_palindrome(input_string):\n",
        "\n",
        "    cleaned_string = input_string.replace(\" \", \"\").lower()\n",
        "\n",
        "    return cleaned_string == cleaned_string[::-1]\n",
        "\n",
        "input_str = \"A man a plan a canal Panama\"\n",
        "if is_palindrome(input_str):\n",
        "    print(\"The string is a palindrome.\")\n",
        "else:\n",
        "    print(\"The string is not a palindrome.\")"
      ],
      "metadata": {
        "colab": {
          "base_uri": "https://localhost:8080/"
        },
        "id": "gP6dQHj6cq57",
        "outputId": "771d1791-162f-446f-d366-c2160c681b78"
      },
      "execution_count": null,
      "outputs": [
        {
          "output_type": "stream",
          "name": "stdout",
          "text": [
            "The string is a palindrome.\n"
          ]
        }
      ]
    },
    {
      "cell_type": "markdown",
      "source": [
        "**Question No4:** Write a code to check if two given strings are anagrams of each other.\n",
        "\n",
        "**Answer:**"
      ],
      "metadata": {
        "id": "X832KeP9c4jX"
      }
    },
    {
      "cell_type": "code",
      "source": [
        "def are_anagrams(str1, str2):\n",
        "\n",
        "    str1 = str1.replace(\" \", \"\").lower()\n",
        "    str2 = str2.replace(\" \", \"\").lower()\n",
        "\n",
        "    return sorted(str1) == sorted(str2)\n",
        "\n",
        "string1 = \"Listen\"\n",
        "string2 = \"Silent\"\n",
        "\n",
        "if are_anagrams(string1, string2):\n",
        "    print(f\"'{string1}' and '{string2}' are anagrams.\")\n",
        "else:\n",
        "    print(f\"'{string1}' and '{string2}' are not anagrams.\")"
      ],
      "metadata": {
        "colab": {
          "base_uri": "https://localhost:8080/"
        },
        "id": "y0BdnkUmdBgm",
        "outputId": "792b7a66-9261-46ca-9426-5dddd213a348"
      },
      "execution_count": null,
      "outputs": [
        {
          "output_type": "stream",
          "name": "stdout",
          "text": [
            "'Listen' and 'Silent' are anagrams.\n"
          ]
        }
      ]
    },
    {
      "cell_type": "markdown",
      "source": [
        "**Question No5:** Write a code to find all occurrences of a given substring within another string.\n",
        "\n",
        "**Answer:**"
      ],
      "metadata": {
        "id": "RX-hxTendYEv"
      }
    },
    {
      "cell_type": "code",
      "source": [
        "def find_all_occurrences(main_string, substring):\n",
        "\n",
        "    indices = []\n",
        "    start = 0\n",
        "\n",
        "    while True:\n",
        "        start = main_string.find(substring, start)\n",
        "\n",
        "        if start == -1:\n",
        "            break\n",
        "\n",
        "        indices.append(start)\n",
        "\n",
        "        start += 1\n",
        "\n",
        "    return indices\n",
        "\n",
        "main_str = \"The quick brown fox jumps over the lazy fox\"\n",
        "substring = \"fox\"\n",
        "\n",
        "occurrences = find_all_occurrences(main_str, substring)\n",
        "\n",
        "if occurrences:\n",
        "    print(f\"'{substring}' found at indices:\", occurrences)\n",
        "else:\n",
        "    print(f\"'{substring}' not found in the string.\")"
      ],
      "metadata": {
        "colab": {
          "base_uri": "https://localhost:8080/"
        },
        "id": "pBurbTxEdey1",
        "outputId": "c0cc6839-816a-4b4f-b921-262b23b7b73b"
      },
      "execution_count": null,
      "outputs": [
        {
          "output_type": "stream",
          "name": "stdout",
          "text": [
            "'fox' found at indices: [16, 40]\n"
          ]
        }
      ]
    },
    {
      "cell_type": "markdown",
      "source": [
        "**Question No6:**  Write a code to perform basic string compression using the counts of repeated characters\n",
        "\n",
        "**Answer:**"
      ],
      "metadata": {
        "id": "KugLDPn6d_yb"
      }
    },
    {
      "cell_type": "code",
      "source": [
        "def compress_string(input_string):\n",
        "    if not input_string:\n",
        "        return \"\"\n",
        "\n",
        "    # Initialize the result as an empty string\n",
        "    compressed = \"\"\n",
        "    count = 1\n",
        "\n",
        "    # Loop through the string starting from the second character\n",
        "    for i in range(1, len(input_string)):\n",
        "        if input_string[i] == input_string[i - 1]:\n",
        "            count += 1\n",
        "        else:\n",
        "            compressed += input_string[i - 1] + str(count)\n",
        "            count = 1\n",
        "\n",
        "    # Add the last character and its count\n",
        "    compressed += input_string[-1] + str(count)\n",
        "\n",
        "    # If the compressed string is not smaller than the original, return the original string\n",
        "    return compressed if len(compressed) < len(input_string) else input_string\n",
        "\n",
        "input_str = \"aaabbbcccaa\"\n",
        "compressed_str = compress_string(input_str)\n",
        "print(\"Compressed string:\", compressed_str)"
      ],
      "metadata": {
        "colab": {
          "base_uri": "https://localhost:8080/"
        },
        "id": "SeStgf7ggyGo",
        "outputId": "9067667f-5230-4748-b5f6-f8a3c2a8cdc4"
      },
      "execution_count": null,
      "outputs": [
        {
          "output_type": "stream",
          "name": "stdout",
          "text": [
            "Compressed string: a3b3c3a2\n"
          ]
        }
      ]
    },
    {
      "cell_type": "markdown",
      "source": [
        "**Question No7:** Write a code to determine if a string has all unique characters\n",
        "\n",
        "**Answer:**"
      ],
      "metadata": {
        "id": "COH8LTjjg_wQ"
      }
    },
    {
      "cell_type": "code",
      "source": [
        "def has_unique_characters(input_string):\n",
        "    # Create a set to store characters that have been seen\n",
        "    seen_characters = set()\n",
        "\n",
        "    for char in input_string:\n",
        "        if char in seen_characters:\n",
        "            # If the character is already in the set, it's not unique\n",
        "            return False\n",
        "        seen_characters.add(char)\n",
        "\n",
        "    # If no duplicates were found, the string has all unique characters\n",
        "    return True\n",
        "\n",
        "input_str = \"abcdefg\"\n",
        "if has_unique_characters(input_str):\n",
        "    print(\"The string has all unique characters.\")\n",
        "else:\n",
        "    print(\"The string does not have all unique characters.\")"
      ],
      "metadata": {
        "colab": {
          "base_uri": "https://localhost:8080/"
        },
        "id": "VYYAuqbEhIXp",
        "outputId": "9862ae3f-e534-488f-f181-cce3292fef5e"
      },
      "execution_count": null,
      "outputs": [
        {
          "output_type": "stream",
          "name": "stdout",
          "text": [
            "The string has all unique characters.\n"
          ]
        }
      ]
    },
    {
      "cell_type": "markdown",
      "source": [
        "**Question No8:** Write a code to convert a given string to uppercase or lowercase\n",
        "\n",
        "**Answer:**"
      ],
      "metadata": {
        "id": "FS5p5XQihOSi"
      }
    },
    {
      "cell_type": "code",
      "source": [
        "def convert_case(input_string, to_upper=True):\n",
        "    if to_upper:\n",
        "        return input_string.upper()  # Converts to uppercase\n",
        "    else:\n",
        "        return input_string.lower()  # Converts to lowercase\n",
        "\n",
        "input_str = \"Hello, World!\"\n",
        "upper_str = convert_case(input_str, to_upper=True)  # Convert to uppercase\n",
        "lower_str = convert_case(input_str, to_upper=False)  # Convert to lowercase\n",
        "\n",
        "print(\"Uppercase:\", upper_str)\n",
        "print(\"Lowercase:\", lower_str)"
      ],
      "metadata": {
        "colab": {
          "base_uri": "https://localhost:8080/"
        },
        "id": "W3NltCiLhV3B",
        "outputId": "e911563a-94d2-4853-b09c-7b175c4fe4f2"
      },
      "execution_count": null,
      "outputs": [
        {
          "output_type": "stream",
          "name": "stdout",
          "text": [
            "Uppercase: HELLO, WORLD!\n",
            "Lowercase: hello, world!\n"
          ]
        }
      ]
    },
    {
      "cell_type": "markdown",
      "source": [
        "**Question No9:** Write a code to count the number of words in a string\n",
        "\n",
        "**Answer:**"
      ],
      "metadata": {
        "id": "SsIUIrD_hc1Y"
      }
    },
    {
      "cell_type": "code",
      "source": [
        "def count_words(input_string):\n",
        "    # Split the string into a list of words and count the length of the list\n",
        "    words = input_string.split()\n",
        "    return len(words)\n",
        "\n",
        "input_str = \"Hello, how are you today?\"\n",
        "word_count = count_words(input_str)\n",
        "print(\"Number of words:\", word_count)"
      ],
      "metadata": {
        "colab": {
          "base_uri": "https://localhost:8080/"
        },
        "id": "ClQwQdDDhfSh",
        "outputId": "ab7c5b61-bb1a-4c6e-f790-2f140d589074"
      },
      "execution_count": null,
      "outputs": [
        {
          "output_type": "stream",
          "name": "stdout",
          "text": [
            "Number of words: 5\n"
          ]
        }
      ]
    },
    {
      "cell_type": "markdown",
      "source": [
        "**Question No10:**  Write a code to concatenate two strings without using the + operator\n",
        "\n",
        "**Answer:**"
      ],
      "metadata": {
        "id": "6p4RYgUbhq_C"
      }
    },
    {
      "cell_type": "code",
      "source": [
        "def concatenate_strings(str1, str2):\n",
        "    return str1.join([str2])\n",
        "\n",
        "string1 = \"Hello\"\n",
        "string2 = \"World\"\n",
        "concatenated_str = concatenate_strings(string1, string2)\n",
        "print(\"Concatenated string:\", concatenated_str)"
      ],
      "metadata": {
        "colab": {
          "base_uri": "https://localhost:8080/"
        },
        "id": "1CBCjs-Hh177",
        "outputId": "25508f09-c0c5-4266-fbb9-b9b41654429d"
      },
      "execution_count": null,
      "outputs": [
        {
          "output_type": "stream",
          "name": "stdout",
          "text": [
            "Concatenated string: World\n"
          ]
        }
      ]
    },
    {
      "cell_type": "markdown",
      "source": [
        "**Question No11:** Write a code to remove all occurrences of a specific element from a list\n",
        "\n",
        "**Answer:**"
      ],
      "metadata": {
        "id": "cBrulG7giF1R"
      }
    },
    {
      "cell_type": "code",
      "source": [
        "def remove_occurrences(input_list, element):\n",
        "    # Use a list comprehension to filter out the element\n",
        "    return [item for item in input_list if item != element]\n",
        "\n",
        "input_list = [1, 2, 3, 4, 2, 5, 2]\n",
        "element_to_remove = 2\n",
        "resulting_list = remove_occurrences(input_list, element_to_remove)\n",
        "print(\"List after removal:\", resulting_list)"
      ],
      "metadata": {
        "colab": {
          "base_uri": "https://localhost:8080/"
        },
        "id": "CzsjQNB2iP22",
        "outputId": "43075222-5f0b-40b4-ae83-0d6162e09ef4"
      },
      "execution_count": null,
      "outputs": [
        {
          "output_type": "stream",
          "name": "stdout",
          "text": [
            "List after removal: [1, 3, 4, 5]\n"
          ]
        }
      ]
    },
    {
      "cell_type": "markdown",
      "source": [
        "**Question No12:**  Implement a code to find the second largest number in a given list of integers\n",
        "\n",
        "**Answer:**"
      ],
      "metadata": {
        "id": "y6tWWJu5iW6j"
      }
    },
    {
      "cell_type": "code",
      "source": [
        "def find_second_largest(numbers):\n",
        "    # Handle the case where the list has fewer than 2 elements\n",
        "    if len(numbers) < 2:\n",
        "        return None  # No second largest number exists\n",
        "\n",
        "    # Initialize two variables for the largest and second largest\n",
        "    first, second = float('-inf'), float('-inf')\n",
        "\n",
        "    # Iterate through the list\n",
        "    for num in numbers:\n",
        "        if num > first:\n",
        "            # Update both first and second largest when a new larger number is found\n",
        "            second = first\n",
        "            first = num\n",
        "        elif num > second and num != first:\n",
        "            # Update the second largest if the number is not equal to the largest\n",
        "            second = num\n",
        "\n",
        "    return second if second != float('-inf') else None  # Return None if no second largest exists\n",
        "\n",
        "input_list = [12, 35, 1, 10, 34, 1]\n",
        "second_largest = find_second_largest(input_list)\n",
        "print(\"Second largest number:\", second_largest)"
      ],
      "metadata": {
        "colab": {
          "base_uri": "https://localhost:8080/"
        },
        "id": "sAXpb3eIifi4",
        "outputId": "4b5d3ed3-199f-4932-a6dd-cbdd95565cd3"
      },
      "execution_count": null,
      "outputs": [
        {
          "output_type": "stream",
          "name": "stdout",
          "text": [
            "Second largest number: 34\n"
          ]
        }
      ]
    },
    {
      "cell_type": "markdown",
      "source": [
        "**Question No13:** Create a code to count the occurrences of each element in a list and return a dictionary with elements as keys and their counts as values\n",
        "\n",
        "**Answer:**"
      ],
      "metadata": {
        "id": "qRpsLt4eim_b"
      }
    },
    {
      "cell_type": "code",
      "source": [
        "def count_occurrences(input_list):\n",
        "    # Create an empty dictionary to store the counts\n",
        "    count_dict = {}\n",
        "\n",
        "    # Iterate through the list\n",
        "    for element in input_list:\n",
        "        if element in count_dict:\n",
        "            # If element is already in dictionary, increment its count\n",
        "            count_dict[element] += 1\n",
        "        else:\n",
        "            # If element is not in dictionary, add it with a count of 1\n",
        "            count_dict[element] = 1\n",
        "\n",
        "    return count_dict\n",
        "\n",
        "input_list = [1, 2, 3, 2, 1, 4, 2, 1, 3]\n",
        "occurrences = count_occurrences(input_list)\n",
        "print(\"Occurrences:\", occurrences)"
      ],
      "metadata": {
        "colab": {
          "base_uri": "https://localhost:8080/"
        },
        "id": "Kf5W1fsbixGZ",
        "outputId": "30a90b6e-e43c-4da1-9594-a5d113316e14"
      },
      "execution_count": null,
      "outputs": [
        {
          "output_type": "stream",
          "name": "stdout",
          "text": [
            "Occurrences: {1: 3, 2: 3, 3: 2, 4: 1}\n"
          ]
        }
      ]
    },
    {
      "cell_type": "markdown",
      "source": [
        "**Question No14:** Write a code to reverse a list in-place without using any built-in reverse functions\n",
        "\n",
        "**Answer:**"
      ],
      "metadata": {
        "id": "81pS_E49i1rT"
      }
    },
    {
      "cell_type": "code",
      "source": [
        "def reverse_list_inplace(input_list):\n",
        "    # Initialize two pointers, one at the beginning and one at the end of the list\n",
        "    start, end = 0, len(input_list) - 1\n",
        "\n",
        "    # Swap the elements until the pointers meet in the middle\n",
        "    while start < end:\n",
        "        # Swap the elements at the start and end pointers\n",
        "        input_list[start], input_list[end] = input_list[end], input_list[start]\n",
        "        # Move the pointers towards the center\n",
        "        start += 1\n",
        "        end -= 1\n",
        "\n",
        "input_list = [1, 2, 3, 4, 5]\n",
        "reverse_list_inplace(input_list)\n",
        "print(\"Reversed list:\", input_list)"
      ],
      "metadata": {
        "colab": {
          "base_uri": "https://localhost:8080/"
        },
        "id": "wOkpX2GQi-rl",
        "outputId": "dce55a6c-5107-4cb4-9646-628acce832cf"
      },
      "execution_count": null,
      "outputs": [
        {
          "output_type": "stream",
          "name": "stdout",
          "text": [
            "Reversed list: [5, 4, 3, 2, 1]\n"
          ]
        }
      ]
    },
    {
      "cell_type": "markdown",
      "source": [
        "**Question No15:** Implement a code to find and remove duplicates from a list while preserving the original order of elements.\n",
        "\n",
        "**Answer:**"
      ],
      "metadata": {
        "id": "lhPL5jEAjGf1"
      }
    },
    {
      "cell_type": "code",
      "source": [
        "def remove_duplicates(input_list):\n",
        "    # Create an empty set to track seen elements\n",
        "    seen = set()\n",
        "    # Use a list comprehension to build a new list with no duplicates\n",
        "    result = [item for item in input_list if item not in seen and not seen.add(item)]\n",
        "    return result\n",
        "\n",
        "input_list = [1, 2, 3, 2, 4, 1, 5]\n",
        "resulting_list = remove_duplicates(input_list)\n",
        "print(\"List after removing duplicates:\", resulting_list)"
      ],
      "metadata": {
        "colab": {
          "base_uri": "https://localhost:8080/"
        },
        "id": "BcP0CPXkjps8",
        "outputId": "79b15337-327a-42bc-f942-a8bafaa43136"
      },
      "execution_count": null,
      "outputs": [
        {
          "output_type": "stream",
          "name": "stdout",
          "text": [
            "List after removing duplicates: [1, 2, 3, 4, 5]\n"
          ]
        }
      ]
    },
    {
      "cell_type": "markdown",
      "source": [
        "**Question No16:** Create a code to check if a given list is sorted (either in ascending or descending order) or not\n",
        "\n",
        "**Answer:**"
      ],
      "metadata": {
        "id": "Sm6iviZTjuXV"
      }
    },
    {
      "cell_type": "code",
      "source": [
        "def is_sorted(input_list):\n",
        "    # Check if the list is sorted in ascending order\n",
        "    if all(input_list[i] <= input_list[i + 1] for i in range(len(input_list) - 1)):\n",
        "        return \"The list is sorted in ascending order.\"\n",
        "\n",
        "    # Check if the list is sorted in descending order\n",
        "    elif all(input_list[i] >= input_list[i + 1] for i in range(len(input_list) - 1)):\n",
        "        return \"The list is sorted in descending order.\"\n",
        "\n",
        "    # If neither condition is true, the list is not sorted\n",
        "    else:\n",
        "        return \"The list is not sorted.\"\n",
        "\n",
        "input_list = [1, 2, 3, 4, 5]\n",
        "result = is_sorted(input_list)\n",
        "print(result)\n",
        "\n",
        "input_list = [5, 4, 3, 2, 1]\n",
        "result = is_sorted(input_list)\n",
        "print(result)\n",
        "\n",
        "input_list = [1, 3, 2, 4, 5]\n",
        "result = is_sorted(input_list)\n",
        "print(result)"
      ],
      "metadata": {
        "colab": {
          "base_uri": "https://localhost:8080/"
        },
        "id": "590gudGKj33q",
        "outputId": "b6859017-7514-4cf2-d456-af56087e6619"
      },
      "execution_count": null,
      "outputs": [
        {
          "output_type": "stream",
          "name": "stdout",
          "text": [
            "The list is sorted in ascending order.\n",
            "The list is sorted in descending order.\n",
            "The list is not sorted.\n"
          ]
        }
      ]
    },
    {
      "cell_type": "markdown",
      "source": [
        "**Question No17:** Write a code to merge two sorted lists into a single sorted list\n",
        "\n",
        "**Answer:**"
      ],
      "metadata": {
        "id": "8N2scf_fj9Tl"
      }
    },
    {
      "cell_type": "code",
      "source": [
        "def merge_sorted_lists(list1, list2):\n",
        "    merged_list = []\n",
        "    i, j = 0, 0\n",
        "\n",
        "    # Iterate through both lists and merge them in sorted order\n",
        "    while i < len(list1) and j < len(list2):\n",
        "        if list1[i] <= list2[j]:\n",
        "            merged_list.append(list1[i])\n",
        "            i += 1\n",
        "        else:\n",
        "            merged_list.append(list2[j])\n",
        "            j += 1\n",
        "\n",
        "    # If there are remaining elements in list1, add them\n",
        "    while i < len(list1):\n",
        "        merged_list.append(list1[i])\n",
        "        i += 1\n",
        "\n",
        "    # If there are remaining elements in list2, add them\n",
        "    while j < len(list2):\n",
        "        merged_list.append(list2[j])\n",
        "        j += 1\n",
        "\n",
        "    return merged_list\n",
        "\n",
        "list1 = [1, 3, 5, 7]\n",
        "list2 = [2, 4, 6, 8]\n",
        "merged_list = merge_sorted_lists(list1, list2)\n",
        "print(\"Merged sorted list:\", merged_list)"
      ],
      "metadata": {
        "colab": {
          "base_uri": "https://localhost:8080/"
        },
        "id": "LYYKOEcgkGh8",
        "outputId": "d974f83c-74ff-4275-90e6-c671f93aa3bb"
      },
      "execution_count": null,
      "outputs": [
        {
          "output_type": "stream",
          "name": "stdout",
          "text": [
            "Merged sorted list: [1, 2, 3, 4, 5, 6, 7, 8]\n"
          ]
        }
      ]
    },
    {
      "cell_type": "markdown",
      "source": [
        "**Question no18:**  Implement a code to find the intersection of two given lists\n",
        "\n",
        "**Answer:**"
      ],
      "metadata": {
        "id": "5lSk5nxHkM6a"
      }
    },
    {
      "cell_type": "code",
      "source": [
        "def intersection_of_lists(list1, list2):\n",
        "    # Use set intersection to find common elements\n",
        "    return list(set(list1) & set(list2))\n",
        "\n",
        "# Example usage\n",
        "list1 = [1, 2, 3, 4, 5]\n",
        "list2 = [4, 5, 6, 7]\n",
        "intersection = intersection_of_lists(list1, list2)\n",
        "print(\"Intersection of lists:\", intersection)"
      ],
      "metadata": {
        "colab": {
          "base_uri": "https://localhost:8080/"
        },
        "id": "d3ngJiIzkW7-",
        "outputId": "c8a96d92-dfc4-4fb0-e959-30abad6b6531"
      },
      "execution_count": null,
      "outputs": [
        {
          "output_type": "stream",
          "name": "stdout",
          "text": [
            "Intersection of lists: [4, 5]\n"
          ]
        }
      ]
    },
    {
      "cell_type": "markdown",
      "source": [
        "**Question No19:** Create a code to find the union of two lists without duplicates\n",
        "\n",
        "**Answer:**"
      ],
      "metadata": {
        "id": "JsoEzf3-kZcH"
      }
    },
    {
      "cell_type": "code",
      "source": [
        "def union_of_lists(list1, list2):\n",
        "    # Combine the lists and convert to a set to remove duplicates\n",
        "    return list(set(list1) | set(list2))\n",
        "\n",
        "list1 = [1, 2, 3, 4, 5]\n",
        "list2 = [4, 5, 6, 7]\n",
        "union = union_of_lists(list1, list2)\n",
        "print(\"Union of lists:\", union)"
      ],
      "metadata": {
        "colab": {
          "base_uri": "https://localhost:8080/"
        },
        "id": "Q_aSgEUmkhwU",
        "outputId": "77df8f6e-2fdb-4497-8247-7b7bd01b6eaf"
      },
      "execution_count": null,
      "outputs": [
        {
          "output_type": "stream",
          "name": "stdout",
          "text": [
            "Union of lists: [1, 2, 3, 4, 5, 6, 7]\n"
          ]
        }
      ]
    },
    {
      "cell_type": "markdown",
      "source": [
        "**Question No20:** Write a code to shuffle a given list randomly without using any built-in shuffle functions\n",
        "\n",
        "**Answer:**"
      ],
      "metadata": {
        "id": "bjXM2Hviklf7"
      }
    },
    {
      "cell_type": "code",
      "source": [
        "import random\n",
        "\n",
        "def shuffle_list(input_list):\n",
        "    # Get the length of the list\n",
        "    n = len(input_list)\n",
        "\n",
        "    # Shuffle the list using the Fisher-Yates algorithm\n",
        "    for i in range(n - 1, 0, -1):\n",
        "        # Pick a random index from 0 to i\n",
        "        j = random.randint(0, i)\n",
        "\n",
        "        # Swap the elements at indices i and j\n",
        "        input_list[i], input_list[j] = input_list[j], input_list[i]\n",
        "\n",
        "    return input_list\n",
        "\n",
        "input_list = [1, 2, 3, 4, 5]\n",
        "shuffled_list = shuffle_list(input_list)\n",
        "print(\"Shuffled list:\", shuffled_list)"
      ],
      "metadata": {
        "colab": {
          "base_uri": "https://localhost:8080/"
        },
        "id": "Yl673Y5Ikvv4",
        "outputId": "10a0f75c-f948-47f2-809b-07421029b004"
      },
      "execution_count": null,
      "outputs": [
        {
          "output_type": "stream",
          "name": "stdout",
          "text": [
            "Shuffled list: [3, 2, 4, 5, 1]\n"
          ]
        }
      ]
    },
    {
      "cell_type": "markdown",
      "source": [
        "**Question No21:** Write a code that takes two tuples as input and returns a new tuple containing elements that are common to both input tuples\n",
        "\n",
        "**Answer:**"
      ],
      "metadata": {
        "id": "EgYJDh-Zk0Q_"
      }
    },
    {
      "cell_type": "code",
      "source": [
        "def common_elements(tuple1, tuple2):\n",
        "    # Use set intersection to find common elements and convert the result back to a tuple\n",
        "    return tuple(set(tuple1) & set(tuple2))\n",
        "\n",
        "tuple1 = (1, 2, 3, 4, 5)\n",
        "tuple2 = (4, 5, 6, 7)\n",
        "result = common_elements(tuple1, tuple2)\n",
        "print(\"Common elements:\", result)"
      ],
      "metadata": {
        "colab": {
          "base_uri": "https://localhost:8080/"
        },
        "id": "aUuz63Xpk_He",
        "outputId": "9e76d865-3b1f-40e3-d31b-d1bc2ac66303"
      },
      "execution_count": null,
      "outputs": [
        {
          "output_type": "stream",
          "name": "stdout",
          "text": [
            "Common elements: (4, 5)\n"
          ]
        }
      ]
    },
    {
      "cell_type": "markdown",
      "source": [
        "**Question No22:**  Create a code that prompts the user to enter two sets of integers separated by commas. Then, print the intersection of these two sets\n",
        "\n",
        "**Answer:**"
      ],
      "metadata": {
        "id": "CCiO3Vu4lOhV"
      }
    },
    {
      "cell_type": "code",
      "source": [
        "def get_set_from_input(prompt):\n",
        "    # Prompt user for input and convert the input to a set of integers\n",
        "    user_input = input(prompt)\n",
        "    # Split the input string by commas, convert to integers, and return as a set\n",
        "    return set(map(int, user_input.split(',')))\n",
        "\n",
        "def main():\n",
        "    # Get two sets from user input\n",
        "    set1 = get_set_from_input(\"Enter the first set of integers (separated by commas): \")\n",
        "    set2 = get_set_from_input(\"Enter the second set of integers (separated by commas): \")\n",
        "\n",
        "    # Find the intersection of the two sets\n",
        "    intersection = set1 & set2\n",
        "\n",
        "    # Print the intersection\n",
        "    print(\"Intersection of the two sets:\", intersection)\n",
        "\n",
        "# Run the program\n",
        "main()"
      ],
      "metadata": {
        "colab": {
          "base_uri": "https://localhost:8080/"
        },
        "id": "5j2VYZiklXp6",
        "outputId": "aa8c37d9-685b-46a7-bccc-e0f691f1b0f9"
      },
      "execution_count": null,
      "outputs": [
        {
          "output_type": "stream",
          "name": "stdout",
          "text": [
            "Enter the first set of integers (separated by commas): 1,2,3,4,5,6\n",
            "Enter the second set of integers (separated by commas): 7,8,9,1,2,3\n",
            "Intersection of the two sets: {1, 2, 3}\n"
          ]
        }
      ]
    },
    {
      "cell_type": "markdown",
      "source": [
        "**Question no23:** Write a code to concatenate two tuples. The function should take two tuples as input and return a new tuple containing elements from both input tuples.\n",
        "\n",
        "**Answer:**"
      ],
      "metadata": {
        "id": "LA0velrSluhY"
      }
    },
    {
      "cell_type": "code",
      "source": [
        "def concatenate_tuples(tuple1, tuple2):\n",
        "    # Concatenate the two tuples and return the new tuple\n",
        "    return tuple1 + tuple2\n",
        "\n",
        "tuple1 = (1, 2, 3)\n",
        "tuple2 = (4, 5, 6)\n",
        "result = concatenate_tuples(tuple1, tuple2)\n",
        "print(\"Concatenated tuple:\", result)"
      ],
      "metadata": {
        "colab": {
          "base_uri": "https://localhost:8080/"
        },
        "id": "zz0OxBCQl6KU",
        "outputId": "e8a46b06-5fa5-41b1-d410-e44f19d37029"
      },
      "execution_count": null,
      "outputs": [
        {
          "output_type": "stream",
          "name": "stdout",
          "text": [
            "Concatenated tuple: (1, 2, 3, 4, 5, 6)\n"
          ]
        }
      ]
    },
    {
      "cell_type": "markdown",
      "source": [
        "**Question No24:** Develop a code that prompts the user to input two sets of strings. Then, print the elements that are present in the first set but not in the second set.\n",
        "\n",
        "**Answer:**"
      ],
      "metadata": {
        "id": "UZXTNN3Ml8VY"
      }
    },
    {
      "cell_type": "code",
      "source": [
        "def get_set_from_input(prompt):\n",
        "    # Prompt user for input and convert the input to a set of strings\n",
        "    user_input = input(prompt)\n",
        "    # Split the input string by commas, strip any extra spaces, and return as a set\n",
        "    return set(user_input.split(','))\n",
        "\n",
        "def main():\n",
        "    # Get two sets of strings from user input\n",
        "    set1 = get_set_from_input(\"Enter the first set of strings (separated by commas): \")\n",
        "    set2 = get_set_from_input(\"Enter the second set of strings (separated by commas): \")\n",
        "\n",
        "    # Find elements in set1 but not in set2\n",
        "    difference = set1 - set2\n",
        "\n",
        "    # Print the result\n",
        "    print(\"Elements in the first set but not in the second set:\", difference)\n",
        "\n",
        "# Run the program\n",
        "main()"
      ],
      "metadata": {
        "colab": {
          "base_uri": "https://localhost:8080/"
        },
        "id": "sbADtw1MmRFp",
        "outputId": "abf2a5b2-8759-4a0e-f7cf-8938fe0b5f57"
      },
      "execution_count": null,
      "outputs": [
        {
          "output_type": "stream",
          "name": "stdout",
          "text": [
            "Enter the first set of strings (separated by commas): apple,banana,grape,papaya\n",
            "Enter the second set of strings (separated by commas): orange,grape,banana\n",
            "Elements in the first set but not in the second set: {'apple', 'papaya'}\n"
          ]
        }
      ]
    },
    {
      "cell_type": "markdown",
      "source": [
        "**Question No25:** Create a code that takes a tuple and two integers as input. The function should return a new tuple containing elements from the original tuple within the specified range of indices.\n",
        "\n",
        "**Answer:**"
      ],
      "metadata": {
        "id": "ZjRn2N_vmdnp"
      }
    },
    {
      "cell_type": "code",
      "source": [
        "def slice_tuple(input_tuple, start, end):\n",
        "    # Return a new tuple that slices the original tuple from start index to end index\n",
        "    return input_tuple[start:end]\n",
        "\n",
        "input_tuple = (1, 2, 3, 4, 5, 6, 7, 8)\n",
        "start_index = 2\n",
        "end_index = 6\n",
        "result = slice_tuple(input_tuple, start_index, end_index)\n",
        "print(\"Sliced tuple:\", result)"
      ],
      "metadata": {
        "colab": {
          "base_uri": "https://localhost:8080/"
        },
        "id": "xt65BWZ8mqdS",
        "outputId": "1874a1f7-2bb6-42a2-fb45-d7e287d78e22"
      },
      "execution_count": null,
      "outputs": [
        {
          "output_type": "stream",
          "name": "stdout",
          "text": [
            "Sliced tuple: (3, 4, 5, 6)\n"
          ]
        }
      ]
    },
    {
      "cell_type": "markdown",
      "source": [
        "**Question No26:** Write a code that prompts the user to input two sets of characters. Then, print the union of these two sets\n",
        "\n",
        "**Answer:**"
      ],
      "metadata": {
        "id": "5IarXyS16_P4"
      }
    },
    {
      "cell_type": "code",
      "source": [
        "\n",
        "set1_input = input(\"Enter the first set of characters (e.g., 'abc'): \")\n",
        "set2_input = input(\"Enter the second set of characters (e.g., 'xyz'): \")\n",
        "\n",
        "# Convert the inputs to sets\n",
        "set1 = set(set1_input)\n",
        "set2 = set(set2_input)\n",
        "\n",
        "# Calculate the union of the two sets\n",
        "union_set = set1 | set2\n",
        "\n",
        "# Print the union of the sets\n",
        "print(\"The union of the two sets is:\", union_set)"
      ],
      "metadata": {
        "colab": {
          "base_uri": "https://localhost:8080/"
        },
        "id": "MxWqB6cI7GSW",
        "outputId": "277be5fe-5b59-414a-d47b-e028e82e260e"
      },
      "execution_count": 1,
      "outputs": [
        {
          "output_type": "stream",
          "name": "stdout",
          "text": [
            "Enter the first set of characters (e.g., 'abc'): abc\n",
            "Enter the second set of characters (e.g., 'xyz'): xyz\n",
            "The union of the two sets is: {'a', 'y', 'x', 'c', 'b', 'z'}\n"
          ]
        }
      ]
    },
    {
      "cell_type": "markdown",
      "source": [
        "**Question No27:** Develop a code that takes a tuple of integers as input. The function should return the maximum and minimum values from the tuple using tuple unpacking.\n",
        "\n",
        "**Answer:**"
      ],
      "metadata": {
        "id": "fOhYV6_C7cL5"
      }
    },
    {
      "cell_type": "code",
      "source": [
        "def find_max_min(input_tuple):\n",
        "    # Use tuple unpacking to find max and min values\n",
        "    max_value, min_value = max(input_tuple), min(input_tuple)\n",
        "    return max_value, min_value\n",
        "\n",
        "# Prompt the user for input\n",
        "input_values = input(\"Enter a tuple of integers (e.g., (1, 5, 3)): \")\n",
        "\n",
        "# Convert the input string to a tuple of integers\n",
        "input_tuple = tuple(map(int, input_values.strip('()').split(',')))\n",
        "\n",
        "# Call the function and unpack the result\n",
        "max_value, min_value = find_max_min(input_tuple)\n",
        "\n",
        "# Print the results\n",
        "print(\"Maximum value:\", max_value)\n",
        "print(\"Minimum value:\", min_value)"
      ],
      "metadata": {
        "colab": {
          "base_uri": "https://localhost:8080/"
        },
        "id": "A1u-u4qv77uI",
        "outputId": "150b55e8-3c18-4d05-8408-d04c41360d02"
      },
      "execution_count": 2,
      "outputs": [
        {
          "output_type": "stream",
          "name": "stdout",
          "text": [
            "Enter a tuple of integers (e.g., (1, 5, 3)): 1,2,3,4,5\n",
            "Maximum value: 5\n",
            "Minimum value: 1\n"
          ]
        }
      ]
    },
    {
      "cell_type": "markdown",
      "source": [
        "**Question No28:** Create a code that defines two sets of integers. Then, print the union, intersection, and difference of these two sets.\n",
        "\n",
        "**Answer:**\n"
      ],
      "metadata": {
        "id": "lYllcWb48BP4"
      }
    },
    {
      "cell_type": "code",
      "source": [
        "set1 = {1, 2, 3, 4, 5}\n",
        "set2 = {4, 5, 6, 7, 8}\n",
        "\n",
        "# Union of set1 and set2\n",
        "union_set = set1 | set2\n",
        "print(\"Union of the two sets:\", union_set)\n",
        "\n",
        "# Intersection of set1 and set2\n",
        "intersection_set = set1 & set2\n",
        "print(\"Intersection of the two sets:\", intersection_set)\n",
        "\n",
        "# Difference of set1 and set2\n",
        "difference_set = set1 - set2\n",
        "print(\"Difference (set1 - set2):\", difference_set)\n",
        "\n",
        "# Difference of set2 and set1\n",
        "difference_set2 = set2 - set1\n",
        "print(\"Difference (set2 - set1):\", difference_set2)"
      ],
      "metadata": {
        "colab": {
          "base_uri": "https://localhost:8080/"
        },
        "id": "0W1bcnVb8TfC",
        "outputId": "6dc48fe0-ba78-49f8-c742-11e9aa65c937"
      },
      "execution_count": 3,
      "outputs": [
        {
          "output_type": "stream",
          "name": "stdout",
          "text": [
            "Union of the two sets: {1, 2, 3, 4, 5, 6, 7, 8}\n",
            "Intersection of the two sets: {4, 5}\n",
            "Difference (set1 - set2): {1, 2, 3}\n",
            "Difference (set2 - set1): {8, 6, 7}\n"
          ]
        }
      ]
    },
    {
      "cell_type": "markdown",
      "source": [
        "**Question No29:**  Write a code that takes a tuple and an element as input. The function should return the count of occurrences of the given element in the tuple.\n",
        "\n",
        "**Answer:**"
      ],
      "metadata": {
        "id": "1-3BLTWr8V6d"
      }
    },
    {
      "cell_type": "code",
      "source": [
        "def count_occurrences(input_tuple, element):\n",
        "    return input_tuple.count(element)\n",
        "\n",
        "# Prompt the user for input\n",
        "input_values = input(\"Enter a tuple of integers (e.g., (1, 2, 3)): \")\n",
        "element = int(input(\"Enter the element to count: \"))\n",
        "\n",
        "# Convert the input string to a tuple of integers\n",
        "input_tuple = tuple(map(int, input_values.strip('()').split(',')))\n",
        "\n",
        "# Call the function and print the result\n",
        "occurrences = count_occurrences(input_tuple, element)\n",
        "print(f\"The element {element} occurs {occurrences} times in the tuple.\")"
      ],
      "metadata": {
        "colab": {
          "base_uri": "https://localhost:8080/"
        },
        "id": "j-SZv2368gn6",
        "outputId": "43741ca4-7dd3-4cbf-8d60-1069b61d4aac"
      },
      "execution_count": 4,
      "outputs": [
        {
          "output_type": "stream",
          "name": "stdout",
          "text": [
            "Enter a tuple of integers (e.g., (1, 2, 3)): 1,2,3,4,5\n",
            "Enter the element to count: 2\n",
            "The element 2 occurs 1 times in the tuple.\n"
          ]
        }
      ]
    },
    {
      "cell_type": "markdown",
      "source": [
        "**Question No30:**  Develop a code that prompts the user to input two sets of strings. Then, print the symmetric difference of these two sets\n",
        "\n",
        "**Answer:**"
      ],
      "metadata": {
        "id": "EQMkbbJJ80Ss"
      }
    },
    {
      "cell_type": "code",
      "source": [
        "def symmetric_difference(set1, set2):\n",
        "    return set1 ^ set2\n",
        "\n",
        "# Prompt the user to input two sets of strings\n",
        "set1_input = input(\"Enter the first set of strings (e.g., 'apple,banana,cherry'): \")\n",
        "set2_input = input(\"Enter the second set of strings (e.g., 'banana,grape,kiwi'): \")\n",
        "\n",
        "# Convert the inputs to sets by splitting the strings and removing extra spaces\n",
        "set1 = set(set1_input.split(','))\n",
        "set2 = set(set2_input.split(','))\n",
        "\n",
        "# Call the function and print the symmetric difference\n",
        "result = symmetric_difference(set1, set2)\n",
        "print(\"The symmetric difference of the two sets is:\", result)"
      ],
      "metadata": {
        "colab": {
          "base_uri": "https://localhost:8080/"
        },
        "id": "GVr-LCB99DQh",
        "outputId": "631234eb-409f-4b30-ca17-19137636c879"
      },
      "execution_count": 5,
      "outputs": [
        {
          "output_type": "stream",
          "name": "stdout",
          "text": [
            "Enter the first set of strings (e.g., 'apple,banana,cherry'): apple,banana,cherry,dorian\n",
            "Enter the second set of strings (e.g., 'banana,grape,kiwi'): eggplant,fig,grapes\n",
            "The symmetric difference of the two sets is: {'grapes', 'dorian', 'banana', 'fig', 'eggplant', 'cherry', 'apple'}\n"
          ]
        }
      ]
    },
    {
      "cell_type": "markdown",
      "source": [
        "**Question No31:** Write a code that takes a list of words as input and returns a dictionary where the keys are unique words and the values are the frequencies of those words in the input list.\n",
        "\n",
        "**Answer:**"
      ],
      "metadata": {
        "id": "hC21Yxtp9UD6"
      }
    },
    {
      "cell_type": "code",
      "source": [
        "def count_word_frequencies(word_list):\n",
        "    word_frequency = {}\n",
        "    for word in word_list:\n",
        "        if word in word_frequency:\n",
        "            word_frequency[word] += 1\n",
        "        else:\n",
        "            word_frequency[word] = 1\n",
        "    return word_frequency\n",
        "\n",
        "# Prompt the user for input\n",
        "input_words = input(\"Enter a list of words separated by spaces: \")\n",
        "\n",
        "# Convert the input string to a list of words\n",
        "word_list = input_words.split()\n",
        "\n",
        "# Call the function and print the result\n",
        "frequency_dict = count_word_frequencies(word_list)\n",
        "print(\"Word frequencies:\", frequency_dict)"
      ],
      "metadata": {
        "colab": {
          "base_uri": "https://localhost:8080/"
        },
        "id": "Oj5SqaTo9jY8",
        "outputId": "4dfed92f-6a73-44b8-e31f-9dfc6fbb6dbb"
      },
      "execution_count": 6,
      "outputs": [
        {
          "output_type": "stream",
          "name": "stdout",
          "text": [
            "Enter a list of words separated by spaces: coffee tea beverages\n",
            "Word frequencies: {'coffee': 1, 'tea': 1, 'beverages': 1}\n"
          ]
        }
      ]
    },
    {
      "cell_type": "markdown",
      "source": [
        "**Question No32:** Write a code that takes two dictionaries as input and merges them into a single dictionary. If there are common keys, the values should be added together\n",
        "\n",
        "**Answer:**"
      ],
      "metadata": {
        "id": "EXrwoRNK9rOj"
      }
    },
    {
      "cell_type": "code",
      "source": [
        "def merge_dicts(dict1, dict2):\n",
        "    # Create a new dictionary that starts as a copy of the first dictionary\n",
        "    merged_dict = dict1.copy()\n",
        "\n",
        "    # Loop through the second dictionary\n",
        "    for key, value in dict2.items():\n",
        "        if key in merged_dict:\n",
        "            # If the key is common, add the values together\n",
        "            merged_dict[key] += value\n",
        "        else:\n",
        "            # Otherwise, add the key-value pair to the merged dictionary\n",
        "            merged_dict[key] = value\n",
        "\n",
        "    return merged_dict\n",
        "\n",
        "# Prompt the user to input two dictionaries\n",
        "dict1_input = input(\"Enter the first dictionary (e.g., {'a': 1, 'b': 2}): \")\n",
        "dict2_input = input(\"Enter the second dictionary (e.g., {'a': 3, 'c': 4}): \")\n",
        "\n",
        "# Convert the input strings to dictionaries\n",
        "dict1 = eval(dict1_input)\n",
        "dict2 = eval(dict2_input)\n",
        "\n",
        "# Call the function to merge the dictionaries\n",
        "merged_dict = merge_dicts(dict1, dict2)\n",
        "\n",
        "# Print the merged dictionary\n",
        "print(\"Merged dictionary:\", merged_dict)"
      ],
      "metadata": {
        "colab": {
          "base_uri": "https://localhost:8080/"
        },
        "id": "jBo-F3wg91SE",
        "outputId": "1707410d-4a18-4f44-da00-e5d223eca496"
      },
      "execution_count": 13,
      "outputs": [
        {
          "output_type": "stream",
          "name": "stdout",
          "text": [
            "Enter the first dictionary (e.g., {'a': 1, 'b': 2}): {'a':1, 'b':2}\n",
            "Enter the second dictionary (e.g., {'a': 3, 'c': 4}): {'a':3,'b':4}\n",
            "Merged dictionary: {'a': 4, 'b': 6}\n"
          ]
        }
      ]
    },
    {
      "cell_type": "markdown",
      "source": [
        "**Question No33:**  Write a code to access a value in a nested dictionary. The function should take the dictionary and a list of keys as input, and return the corresponding value. If any of the keys do not exist in the dictionary, the function should return None.\n",
        "\n",
        "**Answer:**"
      ],
      "metadata": {
        "id": "PRi7r89r_HZS"
      }
    },
    {
      "cell_type": "code",
      "source": [
        "def access_nested_dict_value(nested_dict, keys):\n",
        "    for key in keys:\n",
        "        # Check if the key exists in the current level of the dictionary\n",
        "        if key in nested_dict:\n",
        "            nested_dict = nested_dict[key]  # Move to the next level of the dictionary\n",
        "        else:\n",
        "            return None  # Return None if the key doesn't exist\n",
        "    return nested_dict  # Return the final value after all keys are accessed\n",
        "\n",
        "# Example usage\n",
        "nested_dict = {\n",
        "    'a': {\n",
        "        'b': {\n",
        "            'c': 10\n",
        "        }\n",
        "    },\n",
        "    'x': {\n",
        "        'y': 20\n",
        "    }\n",
        "}\n",
        "\n",
        "# Prompt the user for input (list of keys)\n",
        "keys_input = input(\"Enter a list of keys separated by commas (e.g., ['a', 'b', 'c']): \")\n",
        "keys = [key.strip() for key in keys_input.strip('[]').split(',')]\n",
        "\n",
        "# Access the value using the function\n",
        "result = access_nested_dict_value(nested_dict, keys)\n",
        "\n",
        "# Print the result\n",
        "print(\"The corresponding value is:\", result)"
      ],
      "metadata": {
        "colab": {
          "base_uri": "https://localhost:8080/"
        },
        "id": "HB5Ko0ai_jtK",
        "outputId": "e03288db-8d7c-4cf1-db19-9f384df7de6c"
      },
      "execution_count": 15,
      "outputs": [
        {
          "output_type": "stream",
          "name": "stdout",
          "text": [
            "Enter a list of keys separated by commas (e.g., ['a', 'b', 'c']): ['a','b','c','d']\n",
            "The corresponding value is: None\n"
          ]
        }
      ]
    },
    {
      "cell_type": "markdown",
      "source": [
        "**Question No34:** Write a code that takes a dictionary as input and returns a sorted version of it based on the values. You can choose whether to sort in ascending or descending order\n",
        "\n",
        "**Answer:**"
      ],
      "metadata": {
        "id": "lYZAlLwN_2Ep"
      }
    },
    {
      "cell_type": "code",
      "source": [
        "def sort_dict_by_values(input_dict, reverse=False):\n",
        "    # Sort the dictionary by values, return a list of tuples (key, value)\n",
        "    sorted_dict = sorted(input_dict.items(), key=lambda item: item[1], reverse=reverse)\n",
        "    return dict(sorted_dict)  # Convert the list of tuples back to a dictionary\n",
        "\n",
        "# Example usage\n",
        "input_dict = {\n",
        "    'apple': 5,\n",
        "    'banana': 2,\n",
        "    'cherry': 8,\n",
        "    'date': 3\n",
        "}\n",
        "\n",
        "# Prompt the user for sorting order\n",
        "order_input = input(\"Enter 'asc' for ascending or 'desc' for descending order: \").strip().lower()\n",
        "\n",
        "# Determine whether to sort in ascending or descending order\n",
        "reverse = True if order_input == 'desc' else False\n",
        "\n",
        "# Call the function to sort the dictionary\n",
        "sorted_dict = sort_dict_by_values(input_dict, reverse)\n",
        "\n",
        "# Print the sorted dictionary\n",
        "print(\"Sorted dictionary:\", sorted_dict)"
      ],
      "metadata": {
        "colab": {
          "base_uri": "https://localhost:8080/"
        },
        "id": "DkXMK8YnAI62",
        "outputId": "c6e2e7e0-9368-46d2-9df2-b8bc34650975"
      },
      "execution_count": 16,
      "outputs": [
        {
          "output_type": "stream",
          "name": "stdout",
          "text": [
            "Enter 'asc' for ascending or 'desc' for descending order: asc\n",
            "Sorted dictionary: {'banana': 2, 'date': 3, 'apple': 5, 'cherry': 8}\n"
          ]
        }
      ]
    },
    {
      "cell_type": "markdown",
      "source": [
        "**Question No35:**  Write a code that inverts a dictionary, swapping keys and values. Ensure that the inverted dictionary correctly handles cases where multiple keys have the same value by storing the keys as a list in the inverted dictionary.\n",
        "\n",
        "**Answer:**"
      ],
      "metadata": {
        "id": "ebxU7av1AODj"
      }
    },
    {
      "cell_type": "code",
      "source": [
        "def invert_dict(input_dict):\n",
        "    inverted_dict = {}\n",
        "\n",
        "    for key, value in input_dict.items():\n",
        "        # If the value is already in the inverted dictionary, append the key to the list\n",
        "        if value in inverted_dict:\n",
        "            inverted_dict[value].append(key)\n",
        "        else:\n",
        "            inverted_dict[value] = [key]\n",
        "\n",
        "    return inverted_dict\n",
        "\n",
        "# Example usage\n",
        "input_dict = {\n",
        "    'apple': 5,\n",
        "    'banana': 2,\n",
        "    'cherry': 5,\n",
        "    'date': 3\n",
        "}\n",
        "\n",
        "# Call the function to invert the dictionary\n",
        "inverted_dict = invert_dict(input_dict)\n",
        "\n",
        "# Print the inverted dictionary\n",
        "print(\"Inverted dictionary:\", inverted_dict)"
      ],
      "metadata": {
        "colab": {
          "base_uri": "https://localhost:8080/"
        },
        "id": "hUHY4_e6AeTf",
        "outputId": "5a8b510e-d405-4ce8-8ec6-c590b1efb0f2"
      },
      "execution_count": 17,
      "outputs": [
        {
          "output_type": "stream",
          "name": "stdout",
          "text": [
            "Inverted dictionary: {5: ['apple', 'cherry'], 2: ['banana'], 3: ['date']}\n"
          ]
        }
      ]
    }
  ]
}